{
 "cells": [
  {
   "cell_type": "code",
   "execution_count": null,
   "metadata": {},
   "outputs": [],
   "source": [
    "# Get data from excel sheet\n",
    "\n",
    "import pandas as pd\n",
    "\n",
    "master_excel = pd.read_excel(\"content/paddy-master.xlsx\", sheet_name=\"Rice Content_2020\")\n",
    "\n",
    "master_excel.head()"
   ]
  },
  {
   "cell_type": "code",
   "execution_count": null,
   "metadata": {},
   "outputs": [],
   "source": [
    "content_sinhala = master_excel[\"Content_Sinhala\"]"
   ]
  }
 ],
 "metadata": {
  "language_info": {
   "name": "python"
  }
 },
 "nbformat": 4,
 "nbformat_minor": 2
}
